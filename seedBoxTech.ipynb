{
 "cells": [
  {
   "cell_type": "markdown",
   "id": "1376f9ec",
   "metadata": {},
   "source": [
    "import pandas as pd\n",
    "import numpy as np\n",
    "import matplotlib.pyplot as plt\n",
    "import seaborn as sns\n",
    "import scipy.stats as stats"
   ]
  },
  {
   "cell_type": "code",
   "execution_count": 27,
   "id": "b075e3c2",
   "metadata": {},
   "outputs": [],
   "source": [
    "path=\"E:/transData.csv\"\n",
    "df_trans=pd.read_csv(path)"
   ]
  },
  {
   "cell_type": "code",
   "execution_count": 24,
   "id": "e500e6ba",
   "metadata": {},
   "outputs": [],
   "source": [
    "path=\"E:/testSamples.csv\"\n",
    "df_test=pd.read_csv(path)"
   ]
  },
  {
   "cell_type": "code",
   "execution_count": 297,
   "id": "8b1616c3",
   "metadata": {},
   "outputs": [
    {
     "data": {
      "text/html": [
       "<div>\n",
       "<style scoped>\n",
       "    .dataframe tbody tr th:only-of-type {\n",
       "        vertical-align: middle;\n",
       "    }\n",
       "\n",
       "    .dataframe tbody tr th {\n",
       "        vertical-align: top;\n",
       "    }\n",
       "\n",
       "    .dataframe thead th {\n",
       "        text-align: right;\n",
       "    }\n",
       "</style>\n",
       "<table border=\"1\" class=\"dataframe\">\n",
       "  <thead>\n",
       "    <tr style=\"text-align: right;\">\n",
       "      <th></th>\n",
       "      <th>transaction_id</th>\n",
       "      <th>sample_id</th>\n",
       "      <th>transaction_type</th>\n",
       "      <th>transaction_amount</th>\n",
       "    </tr>\n",
       "  </thead>\n",
       "  <tbody>\n",
       "    <tr>\n",
       "      <th>0</th>\n",
       "      <td>52346326</td>\n",
       "      <td>11</td>\n",
       "      <td>REBILL</td>\n",
       "      <td>24.95</td>\n",
       "    </tr>\n",
       "    <tr>\n",
       "      <th>1</th>\n",
       "      <td>52346327</td>\n",
       "      <td>11</td>\n",
       "      <td>REBILL</td>\n",
       "      <td>24.95</td>\n",
       "    </tr>\n",
       "    <tr>\n",
       "      <th>2</th>\n",
       "      <td>52346328</td>\n",
       "      <td>32</td>\n",
       "      <td>REBILL</td>\n",
       "      <td>29.95</td>\n",
       "    </tr>\n",
       "    <tr>\n",
       "      <th>3</th>\n",
       "      <td>52346329</td>\n",
       "      <td>32</td>\n",
       "      <td>REBILL</td>\n",
       "      <td>29.95</td>\n",
       "    </tr>\n",
       "    <tr>\n",
       "      <th>4</th>\n",
       "      <td>52346330</td>\n",
       "      <td>32</td>\n",
       "      <td>REBILL</td>\n",
       "      <td>29.95</td>\n",
       "    </tr>\n",
       "  </tbody>\n",
       "</table>\n",
       "</div>"
      ],
      "text/plain": [
       "   transaction_id  sample_id transaction_type  transaction_amount\n",
       "0        52346326         11           REBILL               24.95\n",
       "1        52346327         11           REBILL               24.95\n",
       "2        52346328         32           REBILL               29.95\n",
       "3        52346329         32           REBILL               29.95\n",
       "4        52346330         32           REBILL               29.95"
      ]
     },
     "execution_count": 297,
     "metadata": {},
     "output_type": "execute_result"
    }
   ],
   "source": [
    "#understanding the data\n",
    "df_trans.head(5)"
   ]
  },
  {
   "cell_type": "code",
   "execution_count": 25,
   "id": "1b8ebbe2",
   "metadata": {
    "scrolled": true
   },
   "outputs": [
    {
     "data": {
      "text/html": [
       "<div>\n",
       "<style scoped>\n",
       "    .dataframe tbody tr th:only-of-type {\n",
       "        vertical-align: middle;\n",
       "    }\n",
       "\n",
       "    .dataframe tbody tr th {\n",
       "        vertical-align: top;\n",
       "    }\n",
       "\n",
       "    .dataframe thead th {\n",
       "        text-align: right;\n",
       "    }\n",
       "</style>\n",
       "<table border=\"1\" class=\"dataframe\">\n",
       "  <thead>\n",
       "    <tr style=\"text-align: right;\">\n",
       "      <th></th>\n",
       "      <th>sample_id</th>\n",
       "      <th>test_group</th>\n",
       "    </tr>\n",
       "  </thead>\n",
       "  <tbody>\n",
       "    <tr>\n",
       "      <th>0</th>\n",
       "      <td>1</td>\n",
       "      <td>0</td>\n",
       "    </tr>\n",
       "    <tr>\n",
       "      <th>1</th>\n",
       "      <td>2</td>\n",
       "      <td>1</td>\n",
       "    </tr>\n",
       "    <tr>\n",
       "      <th>2</th>\n",
       "      <td>3</td>\n",
       "      <td>0</td>\n",
       "    </tr>\n",
       "    <tr>\n",
       "      <th>3</th>\n",
       "      <td>4</td>\n",
       "      <td>1</td>\n",
       "    </tr>\n",
       "    <tr>\n",
       "      <th>4</th>\n",
       "      <td>5</td>\n",
       "      <td>1</td>\n",
       "    </tr>\n",
       "  </tbody>\n",
       "</table>\n",
       "</div>"
      ],
      "text/plain": [
       "   sample_id  test_group\n",
       "0          1           0\n",
       "1          2           1\n",
       "2          3           0\n",
       "3          4           1\n",
       "4          5           1"
      ]
     },
     "execution_count": 25,
     "metadata": {},
     "output_type": "execute_result"
    }
   ],
   "source": [
    "df_test.head(5)"
   ]
  },
  {
   "cell_type": "code",
   "execution_count": 32,
   "id": "474b23ac",
   "metadata": {},
   "outputs": [
    {
     "data": {
      "text/html": [
       "<div>\n",
       "<style scoped>\n",
       "    .dataframe tbody tr th:only-of-type {\n",
       "        vertical-align: middle;\n",
       "    }\n",
       "\n",
       "    .dataframe tbody tr th {\n",
       "        vertical-align: top;\n",
       "    }\n",
       "\n",
       "    .dataframe thead th {\n",
       "        text-align: right;\n",
       "    }\n",
       "</style>\n",
       "<table border=\"1\" class=\"dataframe\">\n",
       "  <thead>\n",
       "    <tr style=\"text-align: right;\">\n",
       "      <th></th>\n",
       "      <th>transaction_id</th>\n",
       "      <th>sample_id</th>\n",
       "      <th>transaction_type</th>\n",
       "      <th>transaction_amount</th>\n",
       "    </tr>\n",
       "  </thead>\n",
       "  <tbody>\n",
       "    <tr>\n",
       "      <th>count</th>\n",
       "      <td>7.430000e+03</td>\n",
       "      <td>7430.000000</td>\n",
       "      <td>7430</td>\n",
       "      <td>7430.000000</td>\n",
       "    </tr>\n",
       "    <tr>\n",
       "      <th>unique</th>\n",
       "      <td>NaN</td>\n",
       "      <td>NaN</td>\n",
       "      <td>3</td>\n",
       "      <td>NaN</td>\n",
       "    </tr>\n",
       "    <tr>\n",
       "      <th>top</th>\n",
       "      <td>NaN</td>\n",
       "      <td>NaN</td>\n",
       "      <td>REBILL</td>\n",
       "      <td>NaN</td>\n",
       "    </tr>\n",
       "    <tr>\n",
       "      <th>freq</th>\n",
       "      <td>NaN</td>\n",
       "      <td>NaN</td>\n",
       "      <td>6961</td>\n",
       "      <td>NaN</td>\n",
       "    </tr>\n",
       "    <tr>\n",
       "      <th>mean</th>\n",
       "      <td>5.235004e+07</td>\n",
       "      <td>30245.874024</td>\n",
       "      <td>NaN</td>\n",
       "      <td>24.935720</td>\n",
       "    </tr>\n",
       "    <tr>\n",
       "      <th>std</th>\n",
       "      <td>2.145001e+03</td>\n",
       "      <td>17064.733330</td>\n",
       "      <td>NaN</td>\n",
       "      <td>15.050653</td>\n",
       "    </tr>\n",
       "    <tr>\n",
       "      <th>min</th>\n",
       "      <td>5.234633e+07</td>\n",
       "      <td>11.000000</td>\n",
       "      <td>NaN</td>\n",
       "      <td>-39.950000</td>\n",
       "    </tr>\n",
       "    <tr>\n",
       "      <th>25%</th>\n",
       "      <td>5.234818e+07</td>\n",
       "      <td>15866.250000</td>\n",
       "      <td>NaN</td>\n",
       "      <td>24.950000</td>\n",
       "    </tr>\n",
       "    <tr>\n",
       "      <th>50%</th>\n",
       "      <td>5.235004e+07</td>\n",
       "      <td>30557.000000</td>\n",
       "      <td>NaN</td>\n",
       "      <td>24.950000</td>\n",
       "    </tr>\n",
       "    <tr>\n",
       "      <th>75%</th>\n",
       "      <td>5.235190e+07</td>\n",
       "      <td>44945.000000</td>\n",
       "      <td>NaN</td>\n",
       "      <td>32.950000</td>\n",
       "    </tr>\n",
       "    <tr>\n",
       "      <th>max</th>\n",
       "      <td>5.235376e+07</td>\n",
       "      <td>59694.000000</td>\n",
       "      <td>NaN</td>\n",
       "      <td>39.950000</td>\n",
       "    </tr>\n",
       "  </tbody>\n",
       "</table>\n",
       "</div>"
      ],
      "text/plain": [
       "        transaction_id     sample_id transaction_type  transaction_amount\n",
       "count     7.430000e+03   7430.000000             7430         7430.000000\n",
       "unique             NaN           NaN                3                 NaN\n",
       "top                NaN           NaN           REBILL                 NaN\n",
       "freq               NaN           NaN             6961                 NaN\n",
       "mean      5.235004e+07  30245.874024              NaN           24.935720\n",
       "std       2.145001e+03  17064.733330              NaN           15.050653\n",
       "min       5.234633e+07     11.000000              NaN          -39.950000\n",
       "25%       5.234818e+07  15866.250000              NaN           24.950000\n",
       "50%       5.235004e+07  30557.000000              NaN           24.950000\n",
       "75%       5.235190e+07  44945.000000              NaN           32.950000\n",
       "max       5.235376e+07  59694.000000              NaN           39.950000"
      ]
     },
     "execution_count": 32,
     "metadata": {},
     "output_type": "execute_result"
    }
   ],
   "source": [
    "df_trans.describe(include=\"all\")\n",
    "#no outliers observed"
   ]
  },
  {
   "cell_type": "code",
   "execution_count": 33,
   "id": "d153a053",
   "metadata": {},
   "outputs": [
    {
     "data": {
      "text/html": [
       "<div>\n",
       "<style scoped>\n",
       "    .dataframe tbody tr th:only-of-type {\n",
       "        vertical-align: middle;\n",
       "    }\n",
       "\n",
       "    .dataframe tbody tr th {\n",
       "        vertical-align: top;\n",
       "    }\n",
       "\n",
       "    .dataframe thead th {\n",
       "        text-align: right;\n",
       "    }\n",
       "</style>\n",
       "<table border=\"1\" class=\"dataframe\">\n",
       "  <thead>\n",
       "    <tr style=\"text-align: right;\">\n",
       "      <th></th>\n",
       "      <th>sample_id</th>\n",
       "      <th>test_group</th>\n",
       "    </tr>\n",
       "  </thead>\n",
       "  <tbody>\n",
       "    <tr>\n",
       "      <th>count</th>\n",
       "      <td>59721.00000</td>\n",
       "      <td>59721.000000</td>\n",
       "    </tr>\n",
       "    <tr>\n",
       "      <th>mean</th>\n",
       "      <td>29861.00000</td>\n",
       "      <td>0.248405</td>\n",
       "    </tr>\n",
       "    <tr>\n",
       "      <th>std</th>\n",
       "      <td>17240.11205</td>\n",
       "      <td>0.432092</td>\n",
       "    </tr>\n",
       "    <tr>\n",
       "      <th>min</th>\n",
       "      <td>1.00000</td>\n",
       "      <td>0.000000</td>\n",
       "    </tr>\n",
       "    <tr>\n",
       "      <th>25%</th>\n",
       "      <td>14931.00000</td>\n",
       "      <td>0.000000</td>\n",
       "    </tr>\n",
       "    <tr>\n",
       "      <th>50%</th>\n",
       "      <td>29861.00000</td>\n",
       "      <td>0.000000</td>\n",
       "    </tr>\n",
       "    <tr>\n",
       "      <th>75%</th>\n",
       "      <td>44791.00000</td>\n",
       "      <td>0.000000</td>\n",
       "    </tr>\n",
       "    <tr>\n",
       "      <th>max</th>\n",
       "      <td>59721.00000</td>\n",
       "      <td>1.000000</td>\n",
       "    </tr>\n",
       "  </tbody>\n",
       "</table>\n",
       "</div>"
      ],
      "text/plain": [
       "         sample_id    test_group\n",
       "count  59721.00000  59721.000000\n",
       "mean   29861.00000      0.248405\n",
       "std    17240.11205      0.432092\n",
       "min        1.00000      0.000000\n",
       "25%    14931.00000      0.000000\n",
       "50%    29861.00000      0.000000\n",
       "75%    44791.00000      0.000000\n",
       "max    59721.00000      1.000000"
      ]
     },
     "execution_count": 33,
     "metadata": {},
     "output_type": "execute_result"
    }
   ],
   "source": [
    "df_test.describe(include=\"all\")"
   ]
  },
  {
   "cell_type": "code",
   "execution_count": 43,
   "id": "a04c1d9b",
   "metadata": {},
   "outputs": [],
   "source": [
    "#joining the data sets into one data frame\n",
    "df = pd.merge(df_trans, df_test)"
   ]
  },
  {
   "cell_type": "code",
   "execution_count": 307,
   "id": "7b78ec6e",
   "metadata": {},
   "outputs": [
    {
     "data": {
      "text/html": [
       "<div>\n",
       "<style scoped>\n",
       "    .dataframe tbody tr th:only-of-type {\n",
       "        vertical-align: middle;\n",
       "    }\n",
       "\n",
       "    .dataframe tbody tr th {\n",
       "        vertical-align: top;\n",
       "    }\n",
       "\n",
       "    .dataframe thead th {\n",
       "        text-align: right;\n",
       "    }\n",
       "</style>\n",
       "<table border=\"1\" class=\"dataframe\">\n",
       "  <thead>\n",
       "    <tr style=\"text-align: right;\">\n",
       "      <th></th>\n",
       "      <th>transaction_id</th>\n",
       "      <th>sample_id</th>\n",
       "      <th>transaction_type</th>\n",
       "      <th>transaction_amount</th>\n",
       "      <th>test_group</th>\n",
       "    </tr>\n",
       "  </thead>\n",
       "  <tbody>\n",
       "    <tr>\n",
       "      <th>6</th>\n",
       "      <td>False</td>\n",
       "      <td>False</td>\n",
       "      <td>False</td>\n",
       "      <td>False</td>\n",
       "      <td>False</td>\n",
       "    </tr>\n",
       "    <tr>\n",
       "      <th>7</th>\n",
       "      <td>False</td>\n",
       "      <td>False</td>\n",
       "      <td>False</td>\n",
       "      <td>False</td>\n",
       "      <td>False</td>\n",
       "    </tr>\n",
       "    <tr>\n",
       "      <th>8</th>\n",
       "      <td>False</td>\n",
       "      <td>False</td>\n",
       "      <td>False</td>\n",
       "      <td>False</td>\n",
       "      <td>False</td>\n",
       "    </tr>\n",
       "    <tr>\n",
       "      <th>9</th>\n",
       "      <td>False</td>\n",
       "      <td>False</td>\n",
       "      <td>False</td>\n",
       "      <td>False</td>\n",
       "      <td>False</td>\n",
       "    </tr>\n",
       "    <tr>\n",
       "      <th>10</th>\n",
       "      <td>False</td>\n",
       "      <td>False</td>\n",
       "      <td>False</td>\n",
       "      <td>False</td>\n",
       "      <td>False</td>\n",
       "    </tr>\n",
       "    <tr>\n",
       "      <th>...</th>\n",
       "      <td>...</td>\n",
       "      <td>...</td>\n",
       "      <td>...</td>\n",
       "      <td>...</td>\n",
       "      <td>...</td>\n",
       "    </tr>\n",
       "    <tr>\n",
       "      <th>7417</th>\n",
       "      <td>False</td>\n",
       "      <td>False</td>\n",
       "      <td>False</td>\n",
       "      <td>False</td>\n",
       "      <td>False</td>\n",
       "    </tr>\n",
       "    <tr>\n",
       "      <th>7418</th>\n",
       "      <td>False</td>\n",
       "      <td>False</td>\n",
       "      <td>False</td>\n",
       "      <td>False</td>\n",
       "      <td>False</td>\n",
       "    </tr>\n",
       "    <tr>\n",
       "      <th>7419</th>\n",
       "      <td>False</td>\n",
       "      <td>False</td>\n",
       "      <td>False</td>\n",
       "      <td>False</td>\n",
       "      <td>False</td>\n",
       "    </tr>\n",
       "    <tr>\n",
       "      <th>7427</th>\n",
       "      <td>False</td>\n",
       "      <td>False</td>\n",
       "      <td>False</td>\n",
       "      <td>False</td>\n",
       "      <td>False</td>\n",
       "    </tr>\n",
       "    <tr>\n",
       "      <th>7428</th>\n",
       "      <td>False</td>\n",
       "      <td>False</td>\n",
       "      <td>False</td>\n",
       "      <td>False</td>\n",
       "      <td>False</td>\n",
       "    </tr>\n",
       "  </tbody>\n",
       "</table>\n",
       "<p>3756 rows × 5 columns</p>\n",
       "</div>"
      ],
      "text/plain": [
       "      transaction_id  sample_id  transaction_type  transaction_amount  \\\n",
       "6              False      False             False               False   \n",
       "7              False      False             False               False   \n",
       "8              False      False             False               False   \n",
       "9              False      False             False               False   \n",
       "10             False      False             False               False   \n",
       "...              ...        ...               ...                 ...   \n",
       "7417           False      False             False               False   \n",
       "7418           False      False             False               False   \n",
       "7419           False      False             False               False   \n",
       "7427           False      False             False               False   \n",
       "7428           False      False             False               False   \n",
       "\n",
       "      test_group  \n",
       "6          False  \n",
       "7          False  \n",
       "8          False  \n",
       "9          False  \n",
       "10         False  \n",
       "...          ...  \n",
       "7417       False  \n",
       "7418       False  \n",
       "7419       False  \n",
       "7427       False  \n",
       "7428       False  \n",
       "\n",
       "[3756 rows x 5 columns]"
      ]
     },
     "execution_count": 307,
     "metadata": {},
     "output_type": "execute_result"
    }
   ],
   "source": [
    "#checking for NUlL values if any\n",
    "newdf.isnull()"
   ]
  },
  {
   "cell_type": "code",
   "execution_count": null,
   "id": "2f7de761",
   "metadata": {},
   "outputs": [],
   "source": [
    "df.head(5)"
   ]
  },
  {
   "cell_type": "code",
   "execution_count": 99,
   "id": "6061d0e4",
   "metadata": {},
   "outputs": [],
   "source": [
    "#filtering the data\n",
    "newdf = df[(df.test_group == 0) & (df.transaction_type=='REBILL')]"
   ]
  },
  {
   "cell_type": "code",
   "execution_count": 305,
   "id": "49501f62",
   "metadata": {
    "scrolled": true
   },
   "outputs": [
    {
     "data": {
      "text/html": [
       "<div>\n",
       "<style scoped>\n",
       "    .dataframe tbody tr th:only-of-type {\n",
       "        vertical-align: middle;\n",
       "    }\n",
       "\n",
       "    .dataframe tbody tr th {\n",
       "        vertical-align: top;\n",
       "    }\n",
       "\n",
       "    .dataframe thead th {\n",
       "        text-align: right;\n",
       "    }\n",
       "</style>\n",
       "<table border=\"1\" class=\"dataframe\">\n",
       "  <thead>\n",
       "    <tr style=\"text-align: right;\">\n",
       "      <th></th>\n",
       "      <th>transaction_id</th>\n",
       "      <th>sample_id</th>\n",
       "      <th>transaction_type</th>\n",
       "      <th>transaction_amount</th>\n",
       "      <th>test_group</th>\n",
       "    </tr>\n",
       "  </thead>\n",
       "  <tbody>\n",
       "    <tr>\n",
       "      <th>6</th>\n",
       "      <td>52346332</td>\n",
       "      <td>103</td>\n",
       "      <td>REBILL</td>\n",
       "      <td>19.95</td>\n",
       "      <td>0</td>\n",
       "    </tr>\n",
       "    <tr>\n",
       "      <th>7</th>\n",
       "      <td>52346333</td>\n",
       "      <td>103</td>\n",
       "      <td>REBILL</td>\n",
       "      <td>19.95</td>\n",
       "      <td>0</td>\n",
       "    </tr>\n",
       "    <tr>\n",
       "      <th>8</th>\n",
       "      <td>52346334</td>\n",
       "      <td>103</td>\n",
       "      <td>REBILL</td>\n",
       "      <td>19.95</td>\n",
       "      <td>0</td>\n",
       "    </tr>\n",
       "    <tr>\n",
       "      <th>9</th>\n",
       "      <td>52346335</td>\n",
       "      <td>103</td>\n",
       "      <td>REBILL</td>\n",
       "      <td>19.95</td>\n",
       "      <td>0</td>\n",
       "    </tr>\n",
       "    <tr>\n",
       "      <th>10</th>\n",
       "      <td>52346336</td>\n",
       "      <td>103</td>\n",
       "      <td>REBILL</td>\n",
       "      <td>19.95</td>\n",
       "      <td>0</td>\n",
       "    </tr>\n",
       "  </tbody>\n",
       "</table>\n",
       "</div>"
      ],
      "text/plain": [
       "    transaction_id  sample_id transaction_type  transaction_amount  test_group\n",
       "6         52346332        103           REBILL               19.95           0\n",
       "7         52346333        103           REBILL               19.95           0\n",
       "8         52346334        103           REBILL               19.95           0\n",
       "9         52346335        103           REBILL               19.95           0\n",
       "10        52346336        103           REBILL               19.95           0"
      ]
     },
     "execution_count": 305,
     "metadata": {},
     "output_type": "execute_result"
    }
   ],
   "source": [
    "newdf.head(5)"
   ]
  },
  {
   "cell_type": "code",
   "execution_count": 101,
   "id": "f1378279",
   "metadata": {},
   "outputs": [
    {
     "name": "stdout",
     "output_type": "stream",
     "text": [
      "<class 'pandas.core.frame.DataFrame'>\n",
      "Int64Index: 3756 entries, 6 to 7428\n",
      "Data columns (total 5 columns):\n",
      " #   Column              Non-Null Count  Dtype  \n",
      "---  ------              --------------  -----  \n",
      " 0   transaction_id      3756 non-null   int64  \n",
      " 1   sample_id           3756 non-null   int64  \n",
      " 2   transaction_type    3756 non-null   object \n",
      " 3   transaction_amount  3756 non-null   float64\n",
      " 4   test_group          3756 non-null   int64  \n",
      "dtypes: float64(1), int64(3), object(1)\n",
      "memory usage: 176.1+ KB\n",
      "None\n"
     ]
    }
   ],
   "source": [
    "print(newdf.info())"
   ]
  },
  {
   "cell_type": "code",
   "execution_count": 144,
   "id": "9575bd4f",
   "metadata": {},
   "outputs": [],
   "source": [
    "#Grouping the user id that have atleast 1 REBILL\n",
    "df3=newdf.groupby(['sample_id'])['transaction_type'].count().pipe(lambda  transaction_type: transaction_type.loc[transaction_type>=1])"
   ]
  },
  {
   "cell_type": "code",
   "execution_count": 309,
   "id": "92cd0ed8",
   "metadata": {
    "scrolled": false
   },
   "outputs": [
    {
     "data": {
      "text/plain": [
       "sample_id\n",
       "103    11\n",
       "109     1\n",
       "127     2\n",
       "135     3\n",
       "364     2\n",
       "Name: transaction_type, dtype: int64"
      ]
     },
     "execution_count": 309,
     "metadata": {},
     "output_type": "execute_result"
    }
   ],
   "source": [
    "df3.head(5)"
   ]
  },
  {
   "cell_type": "code",
   "execution_count": 325,
   "id": "db4233ab",
   "metadata": {
    "scrolled": true
   },
   "outputs": [
    {
     "data": {
      "text/plain": [
       "941"
      ]
     },
     "execution_count": 325,
     "metadata": {},
     "output_type": "execute_result"
    }
   ],
   "source": [
    "control_group_Rebill= df3.count() \n",
    "control_group_Rebill"
   ]
  },
  {
   "cell_type": "code",
   "execution_count": null,
   "id": "7c543ce4",
   "metadata": {},
   "outputs": [],
   "source": [
    "#Total 941 test group users have REBIll atleast once."
   ]
  },
  {
   "cell_type": "code",
   "execution_count": 326,
   "id": "f974ab9f",
   "metadata": {},
   "outputs": [
    {
     "data": {
      "text/plain": [
       "transaction_id        4050\n",
       "sample_id             4050\n",
       "transaction_type      4050\n",
       "transaction_amount    4050\n",
       "test_group            4050\n",
       "dtype: int64"
      ]
     },
     "execution_count": 326,
     "metadata": {},
     "output_type": "execute_result"
    }
   ],
   "source": [
    "total_control_group_samples = df4.count() \n",
    "total_control_group_samples"
   ]
  },
  {
   "cell_type": "code",
   "execution_count": 328,
   "id": "68ecba9e",
   "metadata": {},
   "outputs": [
    {
     "data": {
      "text/plain": [
       "transaction_id        0.232346\n",
       "sample_id             0.232346\n",
       "transaction_type      0.232346\n",
       "transaction_amount    0.232346\n",
       "test_group            0.232346\n",
       "dtype: float64"
      ]
     },
     "execution_count": 328,
     "metadata": {},
     "output_type": "execute_result"
    }
   ],
   "source": [
    "avg_control_group= control_group_Rebill/total_control_group_samples\n",
    "avg_control_group"
   ]
  },
  {
   "cell_type": "code",
   "execution_count": null,
   "id": "675b9d06",
   "metadata": {},
   "outputs": [],
   "source": [
    "#Total 0 control group samples=4050\n",
    "#Number of 0 control group samples with atleast 1 REBILL = 941\n",
    "#Avg. of 0 control group sample with atleast 1 REBILL = 941/4050= 0.23"
   ]
  },
  {
   "cell_type": "code",
   "execution_count": 148,
   "id": "d309c1cf",
   "metadata": {},
   "outputs": [],
   "source": [
    "df5 = df[(df.test_group == 1) & (df.transaction_type=='REBILL')]"
   ]
  },
  {
   "cell_type": "code",
   "execution_count": 320,
   "id": "f7529e14",
   "metadata": {},
   "outputs": [
    {
     "data": {
      "text/html": [
       "<div>\n",
       "<style scoped>\n",
       "    .dataframe tbody tr th:only-of-type {\n",
       "        vertical-align: middle;\n",
       "    }\n",
       "\n",
       "    .dataframe tbody tr th {\n",
       "        vertical-align: top;\n",
       "    }\n",
       "\n",
       "    .dataframe thead th {\n",
       "        text-align: right;\n",
       "    }\n",
       "</style>\n",
       "<table border=\"1\" class=\"dataframe\">\n",
       "  <thead>\n",
       "    <tr style=\"text-align: right;\">\n",
       "      <th></th>\n",
       "      <th>transaction_id</th>\n",
       "      <th>sample_id</th>\n",
       "      <th>transaction_type</th>\n",
       "      <th>transaction_amount</th>\n",
       "      <th>test_group</th>\n",
       "    </tr>\n",
       "  </thead>\n",
       "  <tbody>\n",
       "    <tr>\n",
       "      <th>0</th>\n",
       "      <td>52346326</td>\n",
       "      <td>11</td>\n",
       "      <td>REBILL</td>\n",
       "      <td>24.95</td>\n",
       "      <td>1</td>\n",
       "    </tr>\n",
       "    <tr>\n",
       "      <th>1</th>\n",
       "      <td>52346327</td>\n",
       "      <td>11</td>\n",
       "      <td>REBILL</td>\n",
       "      <td>24.95</td>\n",
       "      <td>1</td>\n",
       "    </tr>\n",
       "    <tr>\n",
       "      <th>2</th>\n",
       "      <td>52346328</td>\n",
       "      <td>32</td>\n",
       "      <td>REBILL</td>\n",
       "      <td>29.95</td>\n",
       "      <td>1</td>\n",
       "    </tr>\n",
       "    <tr>\n",
       "      <th>3</th>\n",
       "      <td>52346329</td>\n",
       "      <td>32</td>\n",
       "      <td>REBILL</td>\n",
       "      <td>29.95</td>\n",
       "      <td>1</td>\n",
       "    </tr>\n",
       "    <tr>\n",
       "      <th>4</th>\n",
       "      <td>52346330</td>\n",
       "      <td>32</td>\n",
       "      <td>REBILL</td>\n",
       "      <td>29.95</td>\n",
       "      <td>1</td>\n",
       "    </tr>\n",
       "  </tbody>\n",
       "</table>\n",
       "</div>"
      ],
      "text/plain": [
       "   transaction_id  sample_id transaction_type  transaction_amount  test_group\n",
       "0        52346326         11           REBILL               24.95           1\n",
       "1        52346327         11           REBILL               24.95           1\n",
       "2        52346328         32           REBILL               29.95           1\n",
       "3        52346329         32           REBILL               29.95           1\n",
       "4        52346330         32           REBILL               29.95           1"
      ]
     },
     "execution_count": 320,
     "metadata": {},
     "output_type": "execute_result"
    }
   ],
   "source": [
    "df5.head(5)"
   ]
  },
  {
   "cell_type": "code",
   "execution_count": 335,
   "id": "0a0740a7",
   "metadata": {},
   "outputs": [
    {
     "data": {
      "text/plain": [
       "transaction_id        3205\n",
       "sample_id             3205\n",
       "transaction_type      3205\n",
       "transaction_amount    3205\n",
       "test_group            3205\n",
       "dtype: int64"
      ]
     },
     "execution_count": 335,
     "metadata": {},
     "output_type": "execute_result"
    }
   ],
   "source": [
    "test_group_rebill= df5.count()\n",
    "test_group_rebill"
   ]
  },
  {
   "cell_type": "code",
   "execution_count": 152,
   "id": "ba89aa4c",
   "metadata": {},
   "outputs": [],
   "source": [
    "df6=df5.groupby(['sample_id'])['transaction_type'].count().pipe(lambda  transaction_type: transaction_type.loc[transaction_type>=1])"
   ]
  },
  {
   "cell_type": "code",
   "execution_count": 331,
   "id": "b3901471",
   "metadata": {},
   "outputs": [
    {
     "data": {
      "text/plain": [
       "sample_id\n",
       "11     2\n",
       "32     4\n",
       "137    2\n",
       "138    1\n",
       "249    1\n",
       "Name: transaction_type, dtype: int64"
      ]
     },
     "execution_count": 331,
     "metadata": {},
     "output_type": "execute_result"
    }
   ],
   "source": [
    "df6.head(5)"
   ]
  },
  {
   "cell_type": "code",
   "execution_count": 336,
   "id": "f78065dd",
   "metadata": {},
   "outputs": [
    {
     "data": {
      "text/plain": [
       "1556"
      ]
     },
     "execution_count": 336,
     "metadata": {},
     "output_type": "execute_result"
    }
   ],
   "source": [
    "test_group_sample=df6.count()\n",
    "test_group_sample"
   ]
  },
  {
   "cell_type": "code",
   "execution_count": 338,
   "id": "80b91fbd",
   "metadata": {},
   "outputs": [
    {
     "data": {
      "text/plain": [
       "transaction_id        0.485491\n",
       "sample_id             0.485491\n",
       "transaction_type      0.485491\n",
       "transaction_amount    0.485491\n",
       "test_group            0.485491\n",
       "dtype: float64"
      ]
     },
     "execution_count": 338,
     "metadata": {},
     "output_type": "execute_result"
    }
   ],
   "source": [
    "avg_test_group=test_group_sample/test_group_rebill\n",
    "avg_test_group"
   ]
  },
  {
   "cell_type": "code",
   "execution_count": null,
   "id": "4609680a",
   "metadata": {},
   "outputs": [],
   "source": [
    "#Total 1 test group samples=3205\n",
    "#Number of 1 test group samples with atleast 1 REBILL = 1556\n",
    "#Avg. of 1 test group sample with atleast 1 REBILL = 1556/3205= 0.48"
   ]
  },
  {
   "cell_type": "code",
   "execution_count": 157,
   "id": "7c00845e",
   "metadata": {},
   "outputs": [],
   "source": [
    "#Calculating the net revenue of control group(0)\n",
    "df7 = df[(df.test_group == 0) & (df.transaction_type=='REBILL')]"
   ]
  },
  {
   "cell_type": "code",
   "execution_count": 159,
   "id": "7c64f50c",
   "metadata": {
    "scrolled": true
   },
   "outputs": [
    {
     "data": {
      "text/html": [
       "<div>\n",
       "<style scoped>\n",
       "    .dataframe tbody tr th:only-of-type {\n",
       "        vertical-align: middle;\n",
       "    }\n",
       "\n",
       "    .dataframe tbody tr th {\n",
       "        vertical-align: top;\n",
       "    }\n",
       "\n",
       "    .dataframe thead th {\n",
       "        text-align: right;\n",
       "    }\n",
       "</style>\n",
       "<table border=\"1\" class=\"dataframe\">\n",
       "  <thead>\n",
       "    <tr style=\"text-align: right;\">\n",
       "      <th></th>\n",
       "      <th>transaction_id</th>\n",
       "      <th>sample_id</th>\n",
       "      <th>transaction_type</th>\n",
       "      <th>transaction_amount</th>\n",
       "      <th>test_group</th>\n",
       "    </tr>\n",
       "  </thead>\n",
       "  <tbody>\n",
       "    <tr>\n",
       "      <th>6</th>\n",
       "      <td>52346332</td>\n",
       "      <td>103</td>\n",
       "      <td>REBILL</td>\n",
       "      <td>19.95</td>\n",
       "      <td>0</td>\n",
       "    </tr>\n",
       "    <tr>\n",
       "      <th>7</th>\n",
       "      <td>52346333</td>\n",
       "      <td>103</td>\n",
       "      <td>REBILL</td>\n",
       "      <td>19.95</td>\n",
       "      <td>0</td>\n",
       "    </tr>\n",
       "    <tr>\n",
       "      <th>8</th>\n",
       "      <td>52346334</td>\n",
       "      <td>103</td>\n",
       "      <td>REBILL</td>\n",
       "      <td>19.95</td>\n",
       "      <td>0</td>\n",
       "    </tr>\n",
       "    <tr>\n",
       "      <th>9</th>\n",
       "      <td>52346335</td>\n",
       "      <td>103</td>\n",
       "      <td>REBILL</td>\n",
       "      <td>19.95</td>\n",
       "      <td>0</td>\n",
       "    </tr>\n",
       "    <tr>\n",
       "      <th>10</th>\n",
       "      <td>52346336</td>\n",
       "      <td>103</td>\n",
       "      <td>REBILL</td>\n",
       "      <td>19.95</td>\n",
       "      <td>0</td>\n",
       "    </tr>\n",
       "    <tr>\n",
       "      <th>11</th>\n",
       "      <td>52346337</td>\n",
       "      <td>103</td>\n",
       "      <td>REBILL</td>\n",
       "      <td>19.95</td>\n",
       "      <td>0</td>\n",
       "    </tr>\n",
       "    <tr>\n",
       "      <th>12</th>\n",
       "      <td>52346338</td>\n",
       "      <td>103</td>\n",
       "      <td>REBILL</td>\n",
       "      <td>19.95</td>\n",
       "      <td>0</td>\n",
       "    </tr>\n",
       "    <tr>\n",
       "      <th>13</th>\n",
       "      <td>52346339</td>\n",
       "      <td>103</td>\n",
       "      <td>REBILL</td>\n",
       "      <td>19.95</td>\n",
       "      <td>0</td>\n",
       "    </tr>\n",
       "    <tr>\n",
       "      <th>14</th>\n",
       "      <td>52346340</td>\n",
       "      <td>103</td>\n",
       "      <td>REBILL</td>\n",
       "      <td>19.95</td>\n",
       "      <td>0</td>\n",
       "    </tr>\n",
       "    <tr>\n",
       "      <th>15</th>\n",
       "      <td>52346341</td>\n",
       "      <td>103</td>\n",
       "      <td>REBILL</td>\n",
       "      <td>19.95</td>\n",
       "      <td>0</td>\n",
       "    </tr>\n",
       "  </tbody>\n",
       "</table>\n",
       "</div>"
      ],
      "text/plain": [
       "    transaction_id  sample_id transaction_type  transaction_amount  test_group\n",
       "6         52346332        103           REBILL               19.95           0\n",
       "7         52346333        103           REBILL               19.95           0\n",
       "8         52346334        103           REBILL               19.95           0\n",
       "9         52346335        103           REBILL               19.95           0\n",
       "10        52346336        103           REBILL               19.95           0\n",
       "11        52346337        103           REBILL               19.95           0\n",
       "12        52346338        103           REBILL               19.95           0\n",
       "13        52346339        103           REBILL               19.95           0\n",
       "14        52346340        103           REBILL               19.95           0\n",
       "15        52346341        103           REBILL               19.95           0"
      ]
     },
     "execution_count": 159,
     "metadata": {},
     "output_type": "execute_result"
    }
   ],
   "source": [
    "df7.head(10)"
   ]
  },
  {
   "cell_type": "code",
   "execution_count": 178,
   "id": "421d2298",
   "metadata": {
    "scrolled": false
   },
   "outputs": [
    {
     "data": {
      "text/plain": [
       "transaction_id        3756\n",
       "sample_id             3756\n",
       "transaction_type      3756\n",
       "transaction_amount    3756\n",
       "test_group            3756\n",
       "Sum                   3756\n",
       "dtype: int64"
      ]
     },
     "execution_count": 178,
     "metadata": {},
     "output_type": "execute_result"
    }
   ],
   "source": [
    "df7.count()"
   ]
  },
  {
   "cell_type": "code",
   "execution_count": 176,
   "id": "05705868",
   "metadata": {},
   "outputs": [
    {
     "data": {
      "text/plain": [
       "transaction_id                                             196626329591\n",
       "sample_id                                                     110246451\n",
       "transaction_type      REBILLREBILLREBILLREBILLREBILLREBILLREBILLREBI...\n",
       "transaction_amount                                              97359.2\n",
       "test_group                                                            0\n",
       "Sum                                                             97359.2\n",
       "dtype: object"
      ]
     },
     "execution_count": 176,
     "metadata": {},
     "output_type": "execute_result"
    }
   ],
   "source": [
    "revenue_control_group=df7.sum(axis = 0, skipna = True)\n",
    "revenue_control_group"
   ]
  },
  {
   "cell_type": "code",
   "execution_count": 172,
   "id": "750c2ede",
   "metadata": {},
   "outputs": [
    {
     "name": "stdout",
     "output_type": "stream",
     "text": [
      "97359.19999999997\n"
     ]
    }
   ],
   "source": [
    "Total = df7['transaction_amount'].sum()\n",
    "print (Total)"
   ]
  },
  {
   "cell_type": "code",
   "execution_count": 174,
   "id": "bebf3001",
   "metadata": {},
   "outputs": [],
   "source": [
    "average_revenue_per_user_of_control_group = Total/3756"
   ]
  },
  {
   "cell_type": "code",
   "execution_count": 175,
   "id": "d719b431",
   "metadata": {},
   "outputs": [
    {
     "name": "stdout",
     "output_type": "stream",
     "text": [
      "25.920979765708193\n"
     ]
    }
   ],
   "source": [
    "print(average_revenue_per_user_of_control_group)"
   ]
  },
  {
   "cell_type": "code",
   "execution_count": null,
   "id": "23c98860",
   "metadata": {},
   "outputs": [],
   "source": [
    "#Following is the conclusion of above analysis.\n",
    "\n",
    "#revenue_control_group = 97359.2\n",
    "#average revenue  per user of control group = 97359/3756=25.9"
   ]
  },
  {
   "cell_type": "code",
   "execution_count": 181,
   "id": "b7b034b1",
   "metadata": {},
   "outputs": [
    {
     "data": {
      "text/plain": [
       "transaction_id        3205\n",
       "sample_id             3205\n",
       "transaction_type      3205\n",
       "transaction_amount    3205\n",
       "test_group            3205\n",
       "dtype: int64"
      ]
     },
     "execution_count": 181,
     "metadata": {},
     "output_type": "execute_result"
    }
   ],
   "source": [
    "#Calculating the net revenue of test group(1)\n",
    "df8 = df[(df.test_group == 1) & (df.transaction_type=='REBILL')]\n",
    "df8.count()"
   ]
  },
  {
   "cell_type": "code",
   "execution_count": 184,
   "id": "3763733e",
   "metadata": {},
   "outputs": [
    {
     "name": "stdout",
     "output_type": "stream",
     "text": [
      "100869.74999999997\n"
     ]
    }
   ],
   "source": [
    "revenue_test_group=df8.sum(axis = 0, skipna = True)\n",
    "Total_revenue_test_group = df8['transaction_amount'].sum()\n",
    "print (Total_revenue_test_group)"
   ]
  },
  {
   "cell_type": "code",
   "execution_count": 186,
   "id": "0193c32c",
   "metadata": {},
   "outputs": [
    {
     "data": {
      "text/plain": [
       "31.472620904836184"
      ]
     },
     "execution_count": 186,
     "metadata": {},
     "output_type": "execute_result"
    }
   ],
   "source": [
    "average_revenue_per_user_of_control_group = Total_revenue_test_group/3205\n",
    "average_revenue_per_user_of_control_group"
   ]
  },
  {
   "cell_type": "code",
   "execution_count": null,
   "id": "fac62c5a",
   "metadata": {},
   "outputs": [],
   "source": [
    "#Following is the conclusion of above analysis.\n",
    "\n",
    "#revenue_test_group = 100869.7\n",
    "#average revenue  per user of test group = 31.47"
   ]
  },
  {
   "cell_type": "code",
   "execution_count": null,
   "id": "21ccecbb",
   "metadata": {},
   "outputs": [],
   "source": [
    "#Is a user that must call-in more likely to produce a higher chargeback rate"
   ]
  },
  {
   "cell_type": "code",
   "execution_count": 234,
   "id": "64e48aa3",
   "metadata": {
    "scrolled": true
   },
   "outputs": [
    {
     "data": {
      "text/html": [
       "<div>\n",
       "<style scoped>\n",
       "    .dataframe tbody tr th:only-of-type {\n",
       "        vertical-align: middle;\n",
       "    }\n",
       "\n",
       "    .dataframe tbody tr th {\n",
       "        vertical-align: top;\n",
       "    }\n",
       "\n",
       "    .dataframe thead th {\n",
       "        text-align: right;\n",
       "    }\n",
       "</style>\n",
       "<table border=\"1\" class=\"dataframe\">\n",
       "  <thead>\n",
       "    <tr style=\"text-align: right;\">\n",
       "      <th></th>\n",
       "      <th>transaction_id</th>\n",
       "      <th>sample_id</th>\n",
       "      <th>transaction_type</th>\n",
       "      <th>transaction_amount</th>\n",
       "      <th>test_group</th>\n",
       "    </tr>\n",
       "  </thead>\n",
       "  <tbody>\n",
       "    <tr>\n",
       "      <th>0</th>\n",
       "      <td>52346326</td>\n",
       "      <td>11</td>\n",
       "      <td>REBILL</td>\n",
       "      <td>24.95</td>\n",
       "      <td>1</td>\n",
       "    </tr>\n",
       "    <tr>\n",
       "      <th>1</th>\n",
       "      <td>52346327</td>\n",
       "      <td>11</td>\n",
       "      <td>REBILL</td>\n",
       "      <td>24.95</td>\n",
       "      <td>1</td>\n",
       "    </tr>\n",
       "    <tr>\n",
       "      <th>2</th>\n",
       "      <td>52346328</td>\n",
       "      <td>32</td>\n",
       "      <td>REBILL</td>\n",
       "      <td>29.95</td>\n",
       "      <td>1</td>\n",
       "    </tr>\n",
       "    <tr>\n",
       "      <th>3</th>\n",
       "      <td>52346329</td>\n",
       "      <td>32</td>\n",
       "      <td>REBILL</td>\n",
       "      <td>29.95</td>\n",
       "      <td>1</td>\n",
       "    </tr>\n",
       "    <tr>\n",
       "      <th>4</th>\n",
       "      <td>52346330</td>\n",
       "      <td>32</td>\n",
       "      <td>REBILL</td>\n",
       "      <td>29.95</td>\n",
       "      <td>1</td>\n",
       "    </tr>\n",
       "  </tbody>\n",
       "</table>\n",
       "</div>"
      ],
      "text/plain": [
       "   transaction_id  sample_id transaction_type  transaction_amount  test_group\n",
       "0        52346326         11           REBILL               24.95           1\n",
       "1        52346327         11           REBILL               24.95           1\n",
       "2        52346328         32           REBILL               29.95           1\n",
       "3        52346329         32           REBILL               29.95           1\n",
       "4        52346330         32           REBILL               29.95           1"
      ]
     },
     "execution_count": 234,
     "metadata": {},
     "output_type": "execute_result"
    }
   ],
   "source": [
    "#calculating charge back rate of calling  users/test users (1).\n",
    "df10 = df[(df.test_group == 1) & (df.transaction_type=='REBILL')]\n",
    "df10.head(5)"
   ]
  },
  {
   "cell_type": "code",
   "execution_count": 244,
   "id": "483a54b9",
   "metadata": {},
   "outputs": [
    {
     "data": {
      "text/html": [
       "<div>\n",
       "<style scoped>\n",
       "    .dataframe tbody tr th:only-of-type {\n",
       "        vertical-align: middle;\n",
       "    }\n",
       "\n",
       "    .dataframe tbody tr th {\n",
       "        vertical-align: top;\n",
       "    }\n",
       "\n",
       "    .dataframe thead th {\n",
       "        text-align: right;\n",
       "    }\n",
       "</style>\n",
       "<table border=\"1\" class=\"dataframe\">\n",
       "  <thead>\n",
       "    <tr style=\"text-align: right;\">\n",
       "      <th></th>\n",
       "      <th>transaction_id</th>\n",
       "      <th>sample_id</th>\n",
       "      <th>transaction_type</th>\n",
       "      <th>transaction_amount</th>\n",
       "      <th>test_group</th>\n",
       "    </tr>\n",
       "  </thead>\n",
       "  <tbody>\n",
       "    <tr>\n",
       "      <th>32</th>\n",
       "      <td>52346358</td>\n",
       "      <td>296</td>\n",
       "      <td>CHARGEBACK</td>\n",
       "      <td>-29.95</td>\n",
       "      <td>1</td>\n",
       "    </tr>\n",
       "    <tr>\n",
       "      <th>137</th>\n",
       "      <td>52346463</td>\n",
       "      <td>1480</td>\n",
       "      <td>CHARGEBACK</td>\n",
       "      <td>-29.95</td>\n",
       "      <td>1</td>\n",
       "    </tr>\n",
       "    <tr>\n",
       "      <th>356</th>\n",
       "      <td>52346682</td>\n",
       "      <td>3542</td>\n",
       "      <td>CHARGEBACK</td>\n",
       "      <td>-39.95</td>\n",
       "      <td>1</td>\n",
       "    </tr>\n",
       "    <tr>\n",
       "      <th>357</th>\n",
       "      <td>52346683</td>\n",
       "      <td>3542</td>\n",
       "      <td>CHARGEBACK</td>\n",
       "      <td>-39.95</td>\n",
       "      <td>1</td>\n",
       "    </tr>\n",
       "    <tr>\n",
       "      <th>815</th>\n",
       "      <td>52347141</td>\n",
       "      <td>6731</td>\n",
       "      <td>CHARGEBACK</td>\n",
       "      <td>-39.95</td>\n",
       "      <td>1</td>\n",
       "    </tr>\n",
       "  </tbody>\n",
       "</table>\n",
       "</div>"
      ],
      "text/plain": [
       "     transaction_id  sample_id transaction_type  transaction_amount  \\\n",
       "32         52346358        296       CHARGEBACK              -29.95   \n",
       "137        52346463       1480       CHARGEBACK              -29.95   \n",
       "356        52346682       3542       CHARGEBACK              -39.95   \n",
       "357        52346683       3542       CHARGEBACK              -39.95   \n",
       "815        52347141       6731       CHARGEBACK              -39.95   \n",
       "\n",
       "     test_group  \n",
       "32            1  \n",
       "137           1  \n",
       "356           1  \n",
       "357           1  \n",
       "815           1  "
      ]
     },
     "execution_count": 244,
     "metadata": {},
     "output_type": "execute_result"
    }
   ],
   "source": [
    "df11 = df[(df.test_group == 1) & (df.transaction_type=='CHARGEBACK')]\n",
    "df11.head(5)"
   ]
  },
  {
   "cell_type": "code",
   "execution_count": 245,
   "id": "a8e8f839",
   "metadata": {},
   "outputs": [
    {
     "data": {
      "text/plain": [
       "transaction_id        3205\n",
       "sample_id             3205\n",
       "transaction_type      3205\n",
       "transaction_amount    3205\n",
       "test_group            3205\n",
       "dtype: int64"
      ]
     },
     "execution_count": 245,
     "metadata": {},
     "output_type": "execute_result"
    }
   ],
   "source": [
    "total_rebill= df10.count()\n",
    "total_rebill"
   ]
  },
  {
   "cell_type": "code",
   "execution_count": 246,
   "id": "aaaeb7c6",
   "metadata": {},
   "outputs": [
    {
     "data": {
      "text/plain": [
       "transaction_id        57\n",
       "sample_id             57\n",
       "transaction_type      57\n",
       "transaction_amount    57\n",
       "test_group            57\n",
       "dtype: int64"
      ]
     },
     "execution_count": 246,
     "metadata": {},
     "output_type": "execute_result"
    }
   ],
   "source": [
    "total_chargeback= df11.count()\n",
    "total_chargeback"
   ]
  },
  {
   "cell_type": "code",
   "execution_count": 240,
   "id": "0eee7eae",
   "metadata": {},
   "outputs": [
    {
     "data": {
      "text/plain": [
       "transaction_id        0.017785\n",
       "sample_id             0.017785\n",
       "transaction_type      0.017785\n",
       "transaction_amount    0.017785\n",
       "test_group            0.017785\n",
       "dtype: float64"
      ]
     },
     "execution_count": 240,
     "metadata": {},
     "output_type": "execute_result"
    }
   ],
   "source": [
    "rate= total_chargeback/total_rebill\n",
    "rate"
   ]
  },
  {
   "cell_type": "code",
   "execution_count": null,
   "id": "f1128106",
   "metadata": {},
   "outputs": [],
   "source": [
    "#charge back rate of calling cancellations is 0.0177"
   ]
  },
  {
   "cell_type": "code",
   "execution_count": 241,
   "id": "40958779",
   "metadata": {},
   "outputs": [
    {
     "data": {
      "text/html": [
       "<div>\n",
       "<style scoped>\n",
       "    .dataframe tbody tr th:only-of-type {\n",
       "        vertical-align: middle;\n",
       "    }\n",
       "\n",
       "    .dataframe tbody tr th {\n",
       "        vertical-align: top;\n",
       "    }\n",
       "\n",
       "    .dataframe thead th {\n",
       "        text-align: right;\n",
       "    }\n",
       "</style>\n",
       "<table border=\"1\" class=\"dataframe\">\n",
       "  <thead>\n",
       "    <tr style=\"text-align: right;\">\n",
       "      <th></th>\n",
       "      <th>transaction_id</th>\n",
       "      <th>sample_id</th>\n",
       "      <th>transaction_type</th>\n",
       "      <th>transaction_amount</th>\n",
       "      <th>test_group</th>\n",
       "    </tr>\n",
       "  </thead>\n",
       "  <tbody>\n",
       "    <tr>\n",
       "      <th>6</th>\n",
       "      <td>52346332</td>\n",
       "      <td>103</td>\n",
       "      <td>REBILL</td>\n",
       "      <td>19.95</td>\n",
       "      <td>0</td>\n",
       "    </tr>\n",
       "    <tr>\n",
       "      <th>7</th>\n",
       "      <td>52346333</td>\n",
       "      <td>103</td>\n",
       "      <td>REBILL</td>\n",
       "      <td>19.95</td>\n",
       "      <td>0</td>\n",
       "    </tr>\n",
       "    <tr>\n",
       "      <th>8</th>\n",
       "      <td>52346334</td>\n",
       "      <td>103</td>\n",
       "      <td>REBILL</td>\n",
       "      <td>19.95</td>\n",
       "      <td>0</td>\n",
       "    </tr>\n",
       "    <tr>\n",
       "      <th>9</th>\n",
       "      <td>52346335</td>\n",
       "      <td>103</td>\n",
       "      <td>REBILL</td>\n",
       "      <td>19.95</td>\n",
       "      <td>0</td>\n",
       "    </tr>\n",
       "    <tr>\n",
       "      <th>10</th>\n",
       "      <td>52346336</td>\n",
       "      <td>103</td>\n",
       "      <td>REBILL</td>\n",
       "      <td>19.95</td>\n",
       "      <td>0</td>\n",
       "    </tr>\n",
       "  </tbody>\n",
       "</table>\n",
       "</div>"
      ],
      "text/plain": [
       "    transaction_id  sample_id transaction_type  transaction_amount  test_group\n",
       "6         52346332        103           REBILL               19.95           0\n",
       "7         52346333        103           REBILL               19.95           0\n",
       "8         52346334        103           REBILL               19.95           0\n",
       "9         52346335        103           REBILL               19.95           0\n",
       "10        52346336        103           REBILL               19.95           0"
      ]
     },
     "execution_count": 241,
     "metadata": {},
     "output_type": "execute_result"
    }
   ],
   "source": [
    "#calculating charge back rate of webform users/control users (0).\n",
    "\n",
    "df12 = df[(df.test_group == 0) & (df.transaction_type=='REBILL')]\n",
    "df12.head(5)"
   ]
  },
  {
   "cell_type": "code",
   "execution_count": 248,
   "id": "f15d6918",
   "metadata": {},
   "outputs": [
    {
     "data": {
      "text/plain": [
       "transaction_id        3756\n",
       "sample_id             3756\n",
       "transaction_type      3756\n",
       "transaction_amount    3756\n",
       "test_group            3756\n",
       "dtype: int64"
      ]
     },
     "execution_count": 248,
     "metadata": {},
     "output_type": "execute_result"
    }
   ],
   "source": [
    "total_rebill_0= df12.count()\n",
    "total_rebill_0"
   ]
  },
  {
   "cell_type": "code",
   "execution_count": 247,
   "id": "57f41ec6",
   "metadata": {},
   "outputs": [
    {
     "data": {
      "text/html": [
       "<div>\n",
       "<style scoped>\n",
       "    .dataframe tbody tr th:only-of-type {\n",
       "        vertical-align: middle;\n",
       "    }\n",
       "\n",
       "    .dataframe tbody tr th {\n",
       "        vertical-align: top;\n",
       "    }\n",
       "\n",
       "    .dataframe thead th {\n",
       "        text-align: right;\n",
       "    }\n",
       "</style>\n",
       "<table border=\"1\" class=\"dataframe\">\n",
       "  <thead>\n",
       "    <tr style=\"text-align: right;\">\n",
       "      <th></th>\n",
       "      <th>transaction_id</th>\n",
       "      <th>sample_id</th>\n",
       "      <th>transaction_type</th>\n",
       "      <th>transaction_amount</th>\n",
       "      <th>test_group</th>\n",
       "    </tr>\n",
       "  </thead>\n",
       "  <tbody>\n",
       "    <tr>\n",
       "      <th>170</th>\n",
       "      <td>52346496</td>\n",
       "      <td>2035</td>\n",
       "      <td>CHARGEBACK</td>\n",
       "      <td>-32.95</td>\n",
       "      <td>0</td>\n",
       "    </tr>\n",
       "    <tr>\n",
       "      <th>192</th>\n",
       "      <td>52346518</td>\n",
       "      <td>2192</td>\n",
       "      <td>CHARGEBACK</td>\n",
       "      <td>-19.95</td>\n",
       "      <td>0</td>\n",
       "    </tr>\n",
       "    <tr>\n",
       "      <th>249</th>\n",
       "      <td>52346575</td>\n",
       "      <td>2713</td>\n",
       "      <td>CHARGEBACK</td>\n",
       "      <td>-32.95</td>\n",
       "      <td>0</td>\n",
       "    </tr>\n",
       "    <tr>\n",
       "      <th>250</th>\n",
       "      <td>52346576</td>\n",
       "      <td>2713</td>\n",
       "      <td>CHARGEBACK</td>\n",
       "      <td>-32.95</td>\n",
       "      <td>0</td>\n",
       "    </tr>\n",
       "    <tr>\n",
       "      <th>344</th>\n",
       "      <td>52346670</td>\n",
       "      <td>3458</td>\n",
       "      <td>CHARGEBACK</td>\n",
       "      <td>-19.95</td>\n",
       "      <td>0</td>\n",
       "    </tr>\n",
       "  </tbody>\n",
       "</table>\n",
       "</div>"
      ],
      "text/plain": [
       "     transaction_id  sample_id transaction_type  transaction_amount  \\\n",
       "170        52346496       2035       CHARGEBACK              -32.95   \n",
       "192        52346518       2192       CHARGEBACK              -19.95   \n",
       "249        52346575       2713       CHARGEBACK              -32.95   \n",
       "250        52346576       2713       CHARGEBACK              -32.95   \n",
       "344        52346670       3458       CHARGEBACK              -19.95   \n",
       "\n",
       "     test_group  \n",
       "170           0  \n",
       "192           0  \n",
       "249           0  \n",
       "250           0  \n",
       "344           0  "
      ]
     },
     "execution_count": 247,
     "metadata": {},
     "output_type": "execute_result"
    }
   ],
   "source": [
    "df13 = df[(df.test_group == 0) & (df.transaction_type=='CHARGEBACK')]\n",
    "df13.head(5)"
   ]
  },
  {
   "cell_type": "code",
   "execution_count": 249,
   "id": "7bdfdea8",
   "metadata": {},
   "outputs": [
    {
     "data": {
      "text/plain": [
       "transaction_id        106\n",
       "sample_id             106\n",
       "transaction_type      106\n",
       "transaction_amount    106\n",
       "test_group            106\n",
       "dtype: int64"
      ]
     },
     "execution_count": 249,
     "metadata": {},
     "output_type": "execute_result"
    }
   ],
   "source": [
    "total_chargeback_0= df13.count()\n",
    "total_chargeback_0"
   ]
  },
  {
   "cell_type": "code",
   "execution_count": 250,
   "id": "f01b6c12",
   "metadata": {},
   "outputs": [
    {
     "data": {
      "text/plain": [
       "transaction_id        0.028222\n",
       "sample_id             0.028222\n",
       "transaction_type      0.028222\n",
       "transaction_amount    0.028222\n",
       "test_group            0.028222\n",
       "dtype: float64"
      ]
     },
     "execution_count": 250,
     "metadata": {},
     "output_type": "execute_result"
    }
   ],
   "source": [
    "rate_0= total_chargeback_0/total_rebill_0\n",
    "rate_0"
   ]
  },
  {
   "cell_type": "code",
   "execution_count": null,
   "id": "b96fbbe6",
   "metadata": {},
   "outputs": [],
   "source": [
    "#charge back rate of webform cancellation is 0.02"
   ]
  },
  {
   "cell_type": "code",
   "execution_count": 301,
   "id": "2b8d7471",
   "metadata": {},
   "outputs": [
    {
     "data": {
      "image/png": "[encoded data removed]",
      "text/plain": [
       "<Figure size 360x360 with 1 Axes>"
      ]
     },
     "metadata": {},
     "output_type": "display_data"
    }
   ],
   "source": [
    "#probabilty distribution of test groups\n",
    "x =df['test_group']\n",
    "sns.displot(x, color=\"red\",kde=True,);"
   ]
  },
  {
   "cell_type": "code",
   "execution_count": 296,
   "id": "43caa7af",
   "metadata": {},
   "outputs": [
    {
     "data": {
      "image/png": "[encoded data removed]",
      "text/plain": [
       "<Figure size 360x360 with 1 Axes>"
      ]
     },
     "metadata": {},
     "output_type": "display_data"
    }
   ],
   "source": [
    "#probabilty distribution of transaction_amount\n",
    "x =df['transaction_amount' ]\n",
    "sns.displot(x, color=\"red\",kde=True,);"
   ]
  },
  {
   "cell_type": "code",
   "execution_count": null,
   "id": "ed652e38",
   "metadata": {},
   "outputs": [],
   "source": []
  }
 ],
 "metadata": {
  "kernelspec": {
   "display_name": "Python 3 (ipykernel)",
   "language": "python",
   "name": "python3"
  },
  "language_info": {
   "codemirror_mode": {
    "name": "ipython",
    "version": 3
   },
   "file_extension": ".py",
   "mimetype": "text/x-python",
   "name": "python",
   "nbconvert_exporter": "python",
   "pygments_lexer": "ipython3",
   "version": "3.9.12"
  }
 },
 "nbformat": 4,
 "nbformat_minor": 5
}
